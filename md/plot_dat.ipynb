{
 "cells": [
  {
   "cell_type": "code",
   "execution_count": 1,
   "id": "1e6b437b-6c11-4b42-b34c-05fc57f1e3ca",
   "metadata": {},
   "outputs": [],
   "source": [
    "import pandas as pd\n",
    "import matplotlib.pyplot as plt\n",
    "import seaborn as sns\n",
    "import numpy as np\n",
    "from pybedtools import BedTool\n",
    "from pybedtools.cbedtools import Attributes\n",
    "from scipy.stats import fisher_exact, chi2\n",
    "import scipy.sparse as sparse"
   ]
  },
  {
   "cell_type": "markdown",
   "id": "9005c7e7-92e4-49a1-b2b5-3822ee8512fd",
   "metadata": {},
   "source": [
    "## Annotate to nearest gene"
   ]
  },
  {
   "cell_type": "code",
   "execution_count": 62,
   "id": "8b98bc44-0c67-4dfe-a77a-0c04be030b0b",
   "metadata": {},
   "outputs": [],
   "source": [
    "genebed = BedTool('/home/wmzh22/utils/gencode.v19.protein_coding.gtf').sort()"
   ]
  },
  {
   "cell_type": "code",
   "execution_count": 63,
   "id": "d7f5ccf2-809a-4387-9253-64f4e21113b8",
   "metadata": {},
   "outputs": [],
   "source": [
    "trait = ['eGFR', 'FFR', 'glucose', 'gammaGT', 'prate']\n",
    "m = 'sparsepro_baseline'"
   ]
  },
  {
   "cell_type": "code",
   "execution_count": 64,
   "id": "a6301199-f01d-448f-adf9-a2cfa1de70c8",
   "metadata": {},
   "outputs": [],
   "source": [
    "name_dict = {'eGFR': 'eGFR', \n",
    "             'FFR': 'FFR',\n",
    "             'glucose': 'Glucose', \n",
    "             'gammaGT': 'gamma-GT', \n",
    "             'prate': 'Pulse rate'}"
   ]
  },
  {
   "cell_type": "code",
   "execution_count": 65,
   "id": "adef0818-19f8-4fcf-a6e8-58d6f2b2f9cd",
   "metadata": {},
   "outputs": [],
   "source": [
    "def get_nearest_gene(cs, genebed, tr, name_dict):\n",
    "    allchr = [[int(j.split('.')[0]) for j in i.split('/')][0] for i in cs['cs']]\n",
    "    allpos = [[int(j.split('.')[1]) for j in i.split('/')] for i in cs['cs']]\n",
    "    cs['chr'] = allchr\n",
    "    cs['pos'] = [i[0] for i in allpos]\n",
    "    cs['snp'] = [i.split('/')[0] for i in cs['cs']]\n",
    "    cs['Chr']= ['chr' + str(i) for i in allchr]\n",
    "    cs['Start']=[min(i) for i in allpos]\n",
    "    cs['End']=[max(i) for i in allpos]\n",
    "    cs['Beta']=[float(i.split('/')[0]) for i in cs['beta']]\n",
    "    csbed = BedTool(cs[['Chr', 'Start', 'End']].values.tolist()).sort()\n",
    "    cgene = csbed.closest(genebed, d=True)\n",
    "    c2g = {'.'.join(i[:3]):Attributes(i[11])['gene_name'] for i in cgene}\n",
    "    c2d = {'.'.join(i[:3]):int(i[12]) for i in cgene}\n",
    "    cs.index=cs['Chr'] + '.' + cs['Start'].astype('str') + '.' + cs['End'].astype(str)\n",
    "    cs.index.name='Region'\n",
    "    cs['Nearest_gene']=pd.Series(c2g)\n",
    "    cs['Distance_to_nearest_gene']=pd.Series(c2d)\n",
    "    cs['Causal_set'] = cs['cs']\n",
    "    cs['PIP'] = cs['pip']\n",
    "    cs['phenotype'] = name_dict[tr]\n",
    "    return cs"
   ]
  },
  {
   "cell_type": "code",
   "execution_count": 66,
   "id": "d06d1657-6f87-4303-a9e8-142ec0fdcf8c",
   "metadata": {},
   "outputs": [],
   "source": [
    "cslist = [pd.concat([pd.read_csv('../dat/GWAS/{}/{}/{}_{}.cs'.format(tr, m, tr, ch), sep='\\t') for ch in range(1, 23)]) for tr in trait]"
   ]
  },
  {
   "cell_type": "code",
   "execution_count": 67,
   "id": "255e9045-16e0-440d-a44d-4e220ee2290e",
   "metadata": {},
   "outputs": [],
   "source": [
    "genelist = [get_nearest_gene(i, genebed, name, name_dict) for name,i in zip(trait,cslist)]"
   ]
  },
  {
   "cell_type": "code",
   "execution_count": 68,
   "id": "6e6eb7d7-4764-40d8-b448-4abf4068e8b3",
   "metadata": {},
   "outputs": [],
   "source": [
    "pheno = pd.concat(genelist)[['Nearest_gene', 'phenotype', 'chr', 'pos', 'snp', 'PIP']]"
   ]
  },
  {
   "cell_type": "code",
   "execution_count": 69,
   "id": "c6a93dfc-52fa-43db-bff0-b168a0cb61b8",
   "metadata": {},
   "outputs": [],
   "source": [
    "gene_counts = pheno.groupby('Nearest_gene')['phenotype'].nunique()"
   ]
  },
  {
   "cell_type": "code",
   "execution_count": 70,
   "id": "67dd8418-8c28-4afb-9e23-599ab86f6f7a",
   "metadata": {},
   "outputs": [
    {
     "data": {
      "text/plain": [
       "Nearest_gene\n",
       "GCKR      4\n",
       "GLIS3     4\n",
       "RREB1     4\n",
       "ZBTB38    4\n",
       "Name: phenotype, dtype: int64"
      ]
     },
     "execution_count": 70,
     "metadata": {},
     "output_type": "execute_result"
    }
   ],
   "source": [
    "gene_counts[gene_counts==gene_counts.max()]"
   ]
  },
  {
   "cell_type": "raw",
   "id": "de4bb568-a0e3-4cff-848c-f108462d90e5",
   "metadata": {},
   "source": [
    "pheno[pheno['Nearest_gene'].isin(gene_counts[gene_counts > 1].index)][['chr', 'pos', 'snp', 'phenotype']].to_csv('../doc/phenogram.txt', sep='\\t', header=True, index=False)"
   ]
  },
  {
   "cell_type": "raw",
   "id": "7e17fd49-4ac8-4de5-9988-6e5d3a832619",
   "metadata": {},
   "source": [
    "[i[['Chr', 'Start', 'End', 'Nearest_gene', 'Distance_to_nearest_gene', 'Beta', 'Causal_set', 'PIP']].to_csv('../doc/{}_cgene.txt'.format(name),sep='\\t') for name,i in zip(trait,genelist)]"
   ]
  },
  {
   "cell_type": "markdown",
   "id": "3e1aff1a-1614-495f-a18b-e89e0a2202b4",
   "metadata": {},
   "source": [
    "## LocusZoom"
   ]
  },
  {
   "cell_type": "code",
   "execution_count": 71,
   "id": "5e03ff78-0e1b-4307-b99c-68ff6f3414de",
   "metadata": {},
   "outputs": [],
   "source": [
    "reverse_name = {value: key for key, value in name_dict.items()}"
   ]
  },
  {
   "cell_type": "code",
   "execution_count": 72,
   "id": "6ed9110a-ffbd-4bf4-8f2d-59920a48a972",
   "metadata": {},
   "outputs": [
    {
     "data": {
      "text/plain": [
       "{'eGFR': 'eGFR',\n",
       " 'FFR': 'FFR',\n",
       " 'Glucose': 'glucose',\n",
       " 'gamma-GT': 'gammaGT',\n",
       " 'Pulse rate': 'prate'}"
      ]
     },
     "execution_count": 72,
     "metadata": {},
     "output_type": "execute_result"
    }
   ],
   "source": [
    "reverse_name"
   ]
  },
  {
   "cell_type": "code",
   "execution_count": 73,
   "id": "24456365-efbb-4657-ba85-0b9474184bec",
   "metadata": {},
   "outputs": [],
   "source": [
    "loci = 'GCKR'"
   ]
  },
  {
   "cell_type": "code",
   "execution_count": 74,
   "id": "26491488-f8d4-4ab3-a434-697f531f789f",
   "metadata": {},
   "outputs": [],
   "source": [
    "df_loci = pheno.loc[pheno['Nearest_gene']==loci,]"
   ]
  },
  {
   "cell_type": "code",
   "execution_count": 75,
   "id": "0ac49073-c2d7-485d-9de6-36fb086f3109",
   "metadata": {},
   "outputs": [
    {
     "data": {
      "text/html": [
       "<div>\n",
       "<style scoped>\n",
       "    .dataframe tbody tr th:only-of-type {\n",
       "        vertical-align: middle;\n",
       "    }\n",
       "\n",
       "    .dataframe tbody tr th {\n",
       "        vertical-align: top;\n",
       "    }\n",
       "\n",
       "    .dataframe thead th {\n",
       "        text-align: right;\n",
       "    }\n",
       "</style>\n",
       "<table border=\"1\" class=\"dataframe\">\n",
       "  <thead>\n",
       "    <tr style=\"text-align: right;\">\n",
       "      <th></th>\n",
       "      <th>Nearest_gene</th>\n",
       "      <th>phenotype</th>\n",
       "      <th>chr</th>\n",
       "      <th>pos</th>\n",
       "      <th>snp</th>\n",
       "      <th>PIP</th>\n",
       "    </tr>\n",
       "    <tr>\n",
       "      <th>Region</th>\n",
       "      <th></th>\n",
       "      <th></th>\n",
       "      <th></th>\n",
       "      <th></th>\n",
       "      <th></th>\n",
       "      <th></th>\n",
       "    </tr>\n",
       "  </thead>\n",
       "  <tbody>\n",
       "    <tr>\n",
       "      <th>chr2.27730940.27730940</th>\n",
       "      <td>GCKR</td>\n",
       "      <td>eGFR</td>\n",
       "      <td>2</td>\n",
       "      <td>27730940</td>\n",
       "      <td>2.27730940.T.C</td>\n",
       "      <td>0.9999</td>\n",
       "    </tr>\n",
       "    <tr>\n",
       "      <th>chr2.27730940.27730940</th>\n",
       "      <td>GCKR</td>\n",
       "      <td>Glucose</td>\n",
       "      <td>2</td>\n",
       "      <td>27730940</td>\n",
       "      <td>2.27730940.T.C</td>\n",
       "      <td>0.9954</td>\n",
       "    </tr>\n",
       "    <tr>\n",
       "      <th>chr2.27730940.27730940</th>\n",
       "      <td>GCKR</td>\n",
       "      <td>gamma-GT</td>\n",
       "      <td>2</td>\n",
       "      <td>27730940</td>\n",
       "      <td>2.27730940.T.C</td>\n",
       "      <td>1.0</td>\n",
       "    </tr>\n",
       "    <tr>\n",
       "      <th>chr2.27730940.27742603</th>\n",
       "      <td>GCKR</td>\n",
       "      <td>Pulse rate</td>\n",
       "      <td>2</td>\n",
       "      <td>27730940</td>\n",
       "      <td>2.27730940.T.C</td>\n",
       "      <td>0.8529/0.0741/0.0622</td>\n",
       "    </tr>\n",
       "  </tbody>\n",
       "</table>\n",
       "</div>"
      ],
      "text/plain": [
       "                       Nearest_gene   phenotype  chr       pos  \\\n",
       "Region                                                           \n",
       "chr2.27730940.27730940         GCKR        eGFR    2  27730940   \n",
       "chr2.27730940.27730940         GCKR     Glucose    2  27730940   \n",
       "chr2.27730940.27730940         GCKR    gamma-GT    2  27730940   \n",
       "chr2.27730940.27742603         GCKR  Pulse rate    2  27730940   \n",
       "\n",
       "                                   snp                   PIP  \n",
       "Region                                                        \n",
       "chr2.27730940.27730940  2.27730940.T.C                0.9999  \n",
       "chr2.27730940.27730940  2.27730940.T.C                0.9954  \n",
       "chr2.27730940.27730940  2.27730940.T.C                   1.0  \n",
       "chr2.27730940.27742603  2.27730940.T.C  0.8529/0.0741/0.0622  "
      ]
     },
     "execution_count": 75,
     "metadata": {},
     "output_type": "execute_result"
    }
   ],
   "source": [
    "df_loci"
   ]
  },
  {
   "cell_type": "raw",
   "id": "e9b6b053-cd40-430e-9134-ee70505339d9",
   "metadata": {},
   "source": [
    "ch = df_loci['chr'][0]\n",
    "pos = df_loci['pos'][0]\n",
    "bw = 1000000\n",
    "lst = pos - bw/2\n",
    "led = pos + bw/2\n",
    "dst = int(pos/1000000)*1000000+1\n",
    "ded = dst + 3000000\n",
    "lsnp = df_loci['snp'][0]"
   ]
  },
  {
   "cell_type": "raw",
   "id": "70c7784b-ed8b-4811-8c1c-ef71ddfda3c5",
   "metadata": {},
   "source": [
    "def load_ld_npz(ld_prefix):\n",
    "    # load the SNPs metadata\n",
    "    gz_file = '%s.gz' % (ld_prefix)\n",
    "    df_ld_snps = pd.read_table(gz_file, sep='\\s+')\n",
    "    df_ld_snps.rename(columns={'rsid': 'SNP', 'chromosome': 'CHR', 'position': 'BP', 'allele1': 'A1', 'allele2': 'A2'},\n",
    "                      inplace=True, errors='ignore')\n",
    "    assert 'SNP' in df_ld_snps.columns\n",
    "    assert 'CHR' in df_ld_snps.columns\n",
    "    assert 'BP' in df_ld_snps.columns\n",
    "    assert 'A1' in df_ld_snps.columns\n",
    "    assert 'A2' in df_ld_snps.columns\n",
    "    df_ld_snps.index = df_ld_snps['CHR'].astype(str) + '.' + df_ld_snps['BP'].astype(str) + '.' + df_ld_snps[\n",
    "        'A1'] + '.' + df_ld_snps['A2']\n",
    "    # load the LD matrix\n",
    "    npz_file = '%s.npz' % (ld_prefix)\n",
    "    try:\n",
    "        R = sparse.load_npz(npz_file).toarray()\n",
    "        R += R.T\n",
    "    except ValueError:\n",
    "        raise IOError('Corrupt file: %s' % (npz_file))\n",
    "    df_R = pd.DataFrame(R, index=df_ld_snps.index, columns=df_ld_snps.index)\n",
    "    return df_R, df_ld_snps"
   ]
  },
  {
   "cell_type": "code",
   "execution_count": 90,
   "id": "a1044455-6ce3-496f-9d88-802f2d8c14dc",
   "metadata": {},
   "outputs": [],
   "source": [
    "df_R, df_ld_snps = load_ld_npz('/home/wmzh22/scratch/UKBBLD/chr{}_{}_{}'.format(ch, dst, ded))"
   ]
  },
  {
   "cell_type": "code",
   "execution_count": 106,
   "id": "000b7f57-43b7-4aed-8803-56a5f5f2a8b0",
   "metadata": {},
   "outputs": [
    {
     "name": "stdout",
     "output_type": "stream",
     "text": [
      "eGFR\n",
      "glucose\n",
      "gammaGT\n",
      "prate\n"
     ]
    }
   ],
   "source": [
    "for ph in df_loci['phenotype']:\n",
    "    tr = reverse_name.get(ph)\n",
    "    print(tr)\n",
    "    df_ss = pd.read_csv('../dat/GWAS/{}/sparsepro_baseline/{}_{}.pip'.format(tr, tr, ch), sep='\\t', header=None)\n",
    "    df_ss['pos'] = [int(i.split('.')[1]) for i in df_ss[0]]\n",
    "    df_ss = df_ss.loc[(lst<df_ss['pos']) & (df_ss['pos']<led),]\n",
    "    df_ss['SNP'] = df_ss[0]\n",
    "    df_ss['lead'] = [i==lead for i in df_ss['SNP']]\n",
    "    df_ss['p'] = chi2.sf(df_ss[1]**2, df=1)\n",
    "    df_ss['PIP'] = df_ss[2]\n",
    "    df_ss['ld'] = df_R.loc[lsnp, df_ss['SNP']].values\n",
    "    df_ss['chr'] = ch\n",
    "    df_ss[['SNP', 'chr', 'pos', 'p', 'PIP', 'lead', 'ld']].to_csv('../doc/LocusZoom/{}_{}_{}.txt'.format(loci, tr, lsnp), sep='\\t', header=True, index=False)"
   ]
  },
  {
   "cell_type": "markdown",
   "id": "0eec5735-9aed-4147-8328-51b7ceb94cfb",
   "metadata": {},
   "source": [
    "## Enrichment plot"
   ]
  },
  {
   "cell_type": "code",
   "execution_count": 2,
   "id": "9a3c4a2d-4941-414f-b978-c7a4f1691fde",
   "metadata": {},
   "outputs": [],
   "source": [
    "trait = ['eGFR', 'FFR', 'glucose', 'gammaGT', 'prate']"
   ]
  },
  {
   "cell_type": "code",
   "execution_count": 3,
   "id": "f43c78ea-0c1d-40e6-a010-75a15e8bcfaa",
   "metadata": {},
   "outputs": [],
   "source": [
    "name_dict = {'eGFR': 'eGFR', \n",
    "             'FFR': 'FFR',\n",
    "             'glucose': 'Glucose', \n",
    "             'gammaGT': 'gamma-GT', \n",
    "             'prate': 'Pulse rate'}"
   ]
  },
  {
   "cell_type": "code",
   "execution_count": 4,
   "id": "f1cb2456-abc1-4ada-86c1-9728c12deec6",
   "metadata": {},
   "outputs": [],
   "source": [
    "tissue_dict = {'Adrenal_Pancreas': 'Adrenal/Pancreatic',\n",
    "               'Cardiovascular': 'Cardiovascular',\n",
    "               'CNS': 'CNS',\n",
    "               'Connective_Bone': 'Connective',\n",
    "               'GI': 'GI',\n",
    "               'Hematopoietic': 'Hematopoietic',\n",
    "               'Kidney': 'Kidney',\n",
    "               'Liver': 'Liver',\n",
    "               'Other': 'Other', \n",
    "               'SkeletalMuscle': 'Musculoskeletal'}"
   ]
  },
  {
   "cell_type": "code",
   "execution_count": 5,
   "id": "41b6b1c4-be24-4d3e-8632-b17f46beecfd",
   "metadata": {},
   "outputs": [],
   "source": [
    "method_dict = {'sparsepro': 'SparsePro-',\n",
    "               'sparsepro_baseline': 'SparsePro+',\n",
    "               'sparsepro_poly': 'SparsePro+PolyFun'}"
   ]
  },
  {
   "cell_type": "raw",
   "id": "86e2a003-1c29-4989-ab6a-58e384b91fd8",
   "metadata": {},
   "source": [
    "allcts = pd.read_csv('../dat/annotation/cts/all.cts', sep='\\t', index_col=0)\n",
    "cts_list = []\n",
    "for tr in trait:\n",
    "    cs = pd.concat([pd.read_csv('../dat/GWAS/{}/sparsepro_baseline/{}_{}.cs'.format(tr, tr, ch), sep='\\t') for ch in range(1, 23)])\n",
    "    cflist = [i.split('/')[0] for i in cs['cs']]\n",
    "    cfcts = allcts.loc[cflist, ]\n",
    "    cts_list.extend([(name_dict[tr], tissue_dict[t], i, o) for t,i,o in zip(cfcts.columns, cfcts.sum(), (len(cflist) - cfcts.sum()))])\n",
    "df_cts = pd.DataFrame(cts_list, columns=['Trait', 'Tissue', 'Annotated', 'Unannotated'])\n",
    "df_cts.to_csv('../doc/dat_cts.txt', sep='\\t', header=True, index=False)"
   ]
  },
  {
   "cell_type": "code",
   "execution_count": 6,
   "id": "d6aeb327-2307-4677-bee1-8acc50911b92",
   "metadata": {},
   "outputs": [],
   "source": [
    "df_cts = pd.read_csv('../doc/dat_cts.txt', sep='\\t')"
   ]
  },
  {
   "cell_type": "code",
   "execution_count": 7,
   "id": "376fe185-8f84-4c19-8717-d91459fceca1",
   "metadata": {},
   "outputs": [
    {
     "data": {
      "text/html": [
       "<div>\n",
       "<style scoped>\n",
       "    .dataframe tbody tr th:only-of-type {\n",
       "        vertical-align: middle;\n",
       "    }\n",
       "\n",
       "    .dataframe tbody tr th {\n",
       "        vertical-align: top;\n",
       "    }\n",
       "\n",
       "    .dataframe thead th {\n",
       "        text-align: right;\n",
       "    }\n",
       "</style>\n",
       "<table border=\"1\" class=\"dataframe\">\n",
       "  <thead>\n",
       "    <tr style=\"text-align: right;\">\n",
       "      <th></th>\n",
       "      <th>Trait</th>\n",
       "      <th>Tissue</th>\n",
       "      <th>Annotated</th>\n",
       "      <th>Unannotated</th>\n",
       "    </tr>\n",
       "  </thead>\n",
       "  <tbody>\n",
       "    <tr>\n",
       "      <th>0</th>\n",
       "      <td>eGFR</td>\n",
       "      <td>Adrenal/Pancreatic</td>\n",
       "      <td>190</td>\n",
       "      <td>280</td>\n",
       "    </tr>\n",
       "    <tr>\n",
       "      <th>1</th>\n",
       "      <td>eGFR</td>\n",
       "      <td>Cardiovascular</td>\n",
       "      <td>203</td>\n",
       "      <td>267</td>\n",
       "    </tr>\n",
       "    <tr>\n",
       "      <th>2</th>\n",
       "      <td>eGFR</td>\n",
       "      <td>CNS</td>\n",
       "      <td>222</td>\n",
       "      <td>248</td>\n",
       "    </tr>\n",
       "    <tr>\n",
       "      <th>3</th>\n",
       "      <td>eGFR</td>\n",
       "      <td>Connective</td>\n",
       "      <td>202</td>\n",
       "      <td>268</td>\n",
       "    </tr>\n",
       "    <tr>\n",
       "      <th>4</th>\n",
       "      <td>eGFR</td>\n",
       "      <td>GI</td>\n",
       "      <td>268</td>\n",
       "      <td>202</td>\n",
       "    </tr>\n",
       "  </tbody>\n",
       "</table>\n",
       "</div>"
      ],
      "text/plain": [
       "  Trait              Tissue  Annotated  Unannotated\n",
       "0  eGFR  Adrenal/Pancreatic        190          280\n",
       "1  eGFR      Cardiovascular        203          267\n",
       "2  eGFR                 CNS        222          248\n",
       "3  eGFR          Connective        202          268\n",
       "4  eGFR                  GI        268          202"
      ]
     },
     "execution_count": 7,
     "metadata": {},
     "output_type": "execute_result"
    }
   ],
   "source": [
    "df_cts.head()"
   ]
  },
  {
   "cell_type": "code",
   "execution_count": 15,
   "id": "e3d963fd-48ea-4e66-8135-6dac0b0e2d7d",
   "metadata": {},
   "outputs": [
    {
     "data": {
      "image/png": "[encoded data removed]",
      "text/plain": [
       "<Figure size 576x288 with 20 Axes>"
      ]
     },
     "metadata": {},
     "output_type": "display_data"
    }
   ],
   "source": [
    "fig, axs = plt.subplots(4, 5, figsize=(8, 4))\n",
    "for ax, row in zip(axs[0], trait):\n",
    "    ax.set_title(name_dict[row], rotation=0, size='large')\n",
    "for col, tissue in enumerate(['Adrenal_Pancreas', 'Cardiovascular', 'Kidney', 'Liver']):\n",
    "    axs[col, 0].set_ylabel('{}'.format(tissue_dict[tissue]), rotation=0)\n",
    "    axs[col, 0].yaxis.set_label_coords(-1.0, 0.45)\n",
    "    for row, tr in enumerate(trait):\n",
    "        values = df_cts.loc[(df_cts['Tissue']==tissue_dict[tissue]) & (df_cts['Trait']==name_dict[tr])].iloc[0, 2:]\n",
    "        axs[col, row].pie(values, colors = ['red', 'lightgrey'])"
   ]
  },
  {
   "cell_type": "raw",
   "id": "f995f795-3928-4c32-a75f-b3207f0cf73b",
   "metadata": {},
   "source": [
    "p_list = []\n",
    "for tissue in tissue_dict.values():\n",
    "    for tr1 in name_dict.values():\n",
    "        for tr2 in name_dict.values():\n",
    "            value1 = df_cts.loc[(df_cts['Tissue']==tissue) & (df_cts['Trait']==tr1)].iloc[0, 2:]\n",
    "            value2 = df_cts.loc[(df_cts['Tissue']==tissue) & (df_cts['Trait']==tr2)].iloc[0, 2:]\n",
    "            table = [value1, value2]\n",
    "            odds_ratio, p_value = fisher_exact(table)\n",
    "            p_list.append([tissue, tr1, tr2, '{:.2e}'.format(odds_ratio), '{:.2e}'.format(p_value)])\n",
    "df_p = pd.DataFrame(p_list, columns=['Tissue', 'Trait1', 'Trait2', 'OR', 'p-value'])\n",
    "df_p.to_csv('../doc/dat_p.txt', sep='\\t', header=True, index=False)"
   ]
  },
  {
   "cell_type": "code",
   "execution_count": 71,
   "id": "c62c1fd4-f970-4643-b0af-4e3dd592ecf2",
   "metadata": {},
   "outputs": [],
   "source": [
    "df_p = pd.read_csv('../doc/dat_p.txt', sep='\\t')"
   ]
  },
  {
   "cell_type": "code",
   "execution_count": 72,
   "id": "c3e96ec6-2e81-47fb-9094-91682614c044",
   "metadata": {},
   "outputs": [
    {
     "data": {
      "text/html": [
       "<div>\n",
       "<style scoped>\n",
       "    .dataframe tbody tr th:only-of-type {\n",
       "        vertical-align: middle;\n",
       "    }\n",
       "\n",
       "    .dataframe tbody tr th {\n",
       "        vertical-align: top;\n",
       "    }\n",
       "\n",
       "    .dataframe thead th {\n",
       "        text-align: right;\n",
       "    }\n",
       "</style>\n",
       "<table border=\"1\" class=\"dataframe\">\n",
       "  <thead>\n",
       "    <tr style=\"text-align: right;\">\n",
       "      <th></th>\n",
       "      <th>Tissue</th>\n",
       "      <th>Trait1</th>\n",
       "      <th>Trait2</th>\n",
       "      <th>OR</th>\n",
       "      <th>p-value</th>\n",
       "    </tr>\n",
       "  </thead>\n",
       "  <tbody>\n",
       "    <tr>\n",
       "      <th>0</th>\n",
       "      <td>Adrenal/Pancreatic</td>\n",
       "      <td>eGFR</td>\n",
       "      <td>eGFR</td>\n",
       "      <td>1.000</td>\n",
       "      <td>1.00000</td>\n",
       "    </tr>\n",
       "    <tr>\n",
       "      <th>1</th>\n",
       "      <td>Adrenal/Pancreatic</td>\n",
       "      <td>eGFR</td>\n",
       "      <td>FFR</td>\n",
       "      <td>1.370</td>\n",
       "      <td>0.03200</td>\n",
       "    </tr>\n",
       "    <tr>\n",
       "      <th>2</th>\n",
       "      <td>Adrenal/Pancreatic</td>\n",
       "      <td>eGFR</td>\n",
       "      <td>Glucose</td>\n",
       "      <td>0.465</td>\n",
       "      <td>0.00027</td>\n",
       "    </tr>\n",
       "    <tr>\n",
       "      <th>3</th>\n",
       "      <td>Adrenal/Pancreatic</td>\n",
       "      <td>eGFR</td>\n",
       "      <td>gamma-GT</td>\n",
       "      <td>0.985</td>\n",
       "      <td>0.94600</td>\n",
       "    </tr>\n",
       "    <tr>\n",
       "      <th>4</th>\n",
       "      <td>Adrenal/Pancreatic</td>\n",
       "      <td>eGFR</td>\n",
       "      <td>Pulse rate</td>\n",
       "      <td>1.320</td>\n",
       "      <td>0.09660</td>\n",
       "    </tr>\n",
       "    <tr>\n",
       "      <th>...</th>\n",
       "      <td>...</td>\n",
       "      <td>...</td>\n",
       "      <td>...</td>\n",
       "      <td>...</td>\n",
       "      <td>...</td>\n",
       "    </tr>\n",
       "    <tr>\n",
       "      <th>245</th>\n",
       "      <td>Musculoskeletal</td>\n",
       "      <td>Pulse rate</td>\n",
       "      <td>eGFR</td>\n",
       "      <td>0.914</td>\n",
       "      <td>0.58800</td>\n",
       "    </tr>\n",
       "    <tr>\n",
       "      <th>246</th>\n",
       "      <td>Musculoskeletal</td>\n",
       "      <td>Pulse rate</td>\n",
       "      <td>FFR</td>\n",
       "      <td>0.941</td>\n",
       "      <td>0.74600</td>\n",
       "    </tr>\n",
       "    <tr>\n",
       "      <th>247</th>\n",
       "      <td>Musculoskeletal</td>\n",
       "      <td>Pulse rate</td>\n",
       "      <td>Glucose</td>\n",
       "      <td>1.320</td>\n",
       "      <td>0.25900</td>\n",
       "    </tr>\n",
       "    <tr>\n",
       "      <th>248</th>\n",
       "      <td>Musculoskeletal</td>\n",
       "      <td>Pulse rate</td>\n",
       "      <td>gamma-GT</td>\n",
       "      <td>1.160</td>\n",
       "      <td>0.38000</td>\n",
       "    </tr>\n",
       "    <tr>\n",
       "      <th>249</th>\n",
       "      <td>Musculoskeletal</td>\n",
       "      <td>Pulse rate</td>\n",
       "      <td>Pulse rate</td>\n",
       "      <td>1.000</td>\n",
       "      <td>1.00000</td>\n",
       "    </tr>\n",
       "  </tbody>\n",
       "</table>\n",
       "<p>250 rows × 5 columns</p>\n",
       "</div>"
      ],
      "text/plain": [
       "                 Tissue      Trait1      Trait2     OR  p-value\n",
       "0    Adrenal/Pancreatic        eGFR        eGFR  1.000  1.00000\n",
       "1    Adrenal/Pancreatic        eGFR         FFR  1.370  0.03200\n",
       "2    Adrenal/Pancreatic        eGFR     Glucose  0.465  0.00027\n",
       "3    Adrenal/Pancreatic        eGFR    gamma-GT  0.985  0.94600\n",
       "4    Adrenal/Pancreatic        eGFR  Pulse rate  1.320  0.09660\n",
       "..                  ...         ...         ...    ...      ...\n",
       "245     Musculoskeletal  Pulse rate        eGFR  0.914  0.58800\n",
       "246     Musculoskeletal  Pulse rate         FFR  0.941  0.74600\n",
       "247     Musculoskeletal  Pulse rate     Glucose  1.320  0.25900\n",
       "248     Musculoskeletal  Pulse rate    gamma-GT  1.160  0.38000\n",
       "249     Musculoskeletal  Pulse rate  Pulse rate  1.000  1.00000\n",
       "\n",
       "[250 rows x 5 columns]"
      ]
     },
     "execution_count": 72,
     "metadata": {},
     "output_type": "execute_result"
    }
   ],
   "source": [
    "df_p"
   ]
  },
  {
   "cell_type": "raw",
   "id": "df051664-6aab-4a5f-86dd-fa48b0dabc97",
   "metadata": {},
   "source": [
    "df_cts_list = []\n",
    "for tr in name_dict.keys():\n",
    "    for m in ['sparsepro','sparsepro_baseline','sparsepro_poly']:\n",
    "        cts_wsep = pd.read_csv('../dat/GWAS/{}/{}/{}_cts.wsep'.format(tr, m, tr), sep='\\t')\n",
    "        cts_wsep['Method'] = method_dict[m]\n",
    "        cts_wsep['Trait'] = name_dict[tr]\n",
    "        cts_wsep['Tissue'] = [tissue_dict[i] for i in cts_wsep['index']]\n",
    "        df_cts_list.append(cts_wsep[['Method', 'Trait', 'Tissue', 'W', 'W_se', 'p']])\n",
    "df_trait_cts = pd.concat(df_cts_list)\n",
    "df_trait_cts.to_csv('../doc/dat_trait_cts.txt', sep='\\t', header=True, index=False)"
   ]
  },
  {
   "cell_type": "code",
   "execution_count": 23,
   "id": "338a7ee5-2ed5-40a0-bf19-2272e8c70d31",
   "metadata": {},
   "outputs": [],
   "source": [
    "df_trait_cts = pd.read_csv('../doc/dat_trait_cts.txt', sep='\\t')"
   ]
  },
  {
   "cell_type": "code",
   "execution_count": 25,
   "id": "c942931c-95c1-4dd6-967f-3c7481f89dbd",
   "metadata": {},
   "outputs": [
    {
     "data": {
      "text/html": [
       "<div>\n",
       "<style scoped>\n",
       "    .dataframe tbody tr th:only-of-type {\n",
       "        vertical-align: middle;\n",
       "    }\n",
       "\n",
       "    .dataframe tbody tr th {\n",
       "        vertical-align: top;\n",
       "    }\n",
       "\n",
       "    .dataframe thead th {\n",
       "        text-align: right;\n",
       "    }\n",
       "</style>\n",
       "<table border=\"1\" class=\"dataframe\">\n",
       "  <thead>\n",
       "    <tr style=\"text-align: right;\">\n",
       "      <th></th>\n",
       "      <th>Method</th>\n",
       "      <th>Trait</th>\n",
       "      <th>Tissue</th>\n",
       "      <th>W</th>\n",
       "      <th>W_se</th>\n",
       "      <th>p</th>\n",
       "    </tr>\n",
       "  </thead>\n",
       "  <tbody>\n",
       "    <tr>\n",
       "      <th>0</th>\n",
       "      <td>SparsePro-</td>\n",
       "      <td>eGFR</td>\n",
       "      <td>Adrenal/Pancreatic</td>\n",
       "      <td>0.88</td>\n",
       "      <td>0.08</td>\n",
       "      <td>2.470000e-24</td>\n",
       "    </tr>\n",
       "    <tr>\n",
       "      <th>1</th>\n",
       "      <td>SparsePro-</td>\n",
       "      <td>eGFR</td>\n",
       "      <td>Cardiovascular</td>\n",
       "      <td>0.83</td>\n",
       "      <td>0.08</td>\n",
       "      <td>4.310000e-23</td>\n",
       "    </tr>\n",
       "    <tr>\n",
       "      <th>2</th>\n",
       "      <td>SparsePro-</td>\n",
       "      <td>eGFR</td>\n",
       "      <td>CNS</td>\n",
       "      <td>0.69</td>\n",
       "      <td>0.07</td>\n",
       "      <td>6.030000e-19</td>\n",
       "    </tr>\n",
       "    <tr>\n",
       "      <th>3</th>\n",
       "      <td>SparsePro-</td>\n",
       "      <td>eGFR</td>\n",
       "      <td>Connective</td>\n",
       "      <td>0.75</td>\n",
       "      <td>0.08</td>\n",
       "      <td>1.020000e-19</td>\n",
       "    </tr>\n",
       "    <tr>\n",
       "      <th>4</th>\n",
       "      <td>SparsePro-</td>\n",
       "      <td>eGFR</td>\n",
       "      <td>GI</td>\n",
       "      <td>0.86</td>\n",
       "      <td>0.07</td>\n",
       "      <td>5.230000e-31</td>\n",
       "    </tr>\n",
       "    <tr>\n",
       "      <th>...</th>\n",
       "      <td>...</td>\n",
       "      <td>...</td>\n",
       "      <td>...</td>\n",
       "      <td>...</td>\n",
       "      <td>...</td>\n",
       "      <td>...</td>\n",
       "    </tr>\n",
       "    <tr>\n",
       "      <th>145</th>\n",
       "      <td>SparsePro+PolyFun</td>\n",
       "      <td>Pulse rate</td>\n",
       "      <td>Hematopoietic</td>\n",
       "      <td>0.78</td>\n",
       "      <td>0.08</td>\n",
       "      <td>1.920000e-22</td>\n",
       "    </tr>\n",
       "    <tr>\n",
       "      <th>146</th>\n",
       "      <td>SparsePro+PolyFun</td>\n",
       "      <td>Pulse rate</td>\n",
       "      <td>Kidney</td>\n",
       "      <td>1.40</td>\n",
       "      <td>0.10</td>\n",
       "      <td>4.770000e-32</td>\n",
       "    </tr>\n",
       "    <tr>\n",
       "      <th>147</th>\n",
       "      <td>SparsePro+PolyFun</td>\n",
       "      <td>Pulse rate</td>\n",
       "      <td>Liver</td>\n",
       "      <td>1.19</td>\n",
       "      <td>0.09</td>\n",
       "      <td>1.630000e-31</td>\n",
       "    </tr>\n",
       "    <tr>\n",
       "      <th>148</th>\n",
       "      <td>SparsePro+PolyFun</td>\n",
       "      <td>Pulse rate</td>\n",
       "      <td>Other</td>\n",
       "      <td>1.05</td>\n",
       "      <td>0.08</td>\n",
       "      <td>3.620000e-39</td>\n",
       "    </tr>\n",
       "    <tr>\n",
       "      <th>149</th>\n",
       "      <td>SparsePro+PolyFun</td>\n",
       "      <td>Pulse rate</td>\n",
       "      <td>Musculoskeletal</td>\n",
       "      <td>1.38</td>\n",
       "      <td>0.08</td>\n",
       "      <td>3.060000e-55</td>\n",
       "    </tr>\n",
       "  </tbody>\n",
       "</table>\n",
       "<p>150 rows × 6 columns</p>\n",
       "</div>"
      ],
      "text/plain": [
       "                Method       Trait              Tissue     W  W_se  \\\n",
       "0           SparsePro-        eGFR  Adrenal/Pancreatic  0.88  0.08   \n",
       "1           SparsePro-        eGFR      Cardiovascular  0.83  0.08   \n",
       "2           SparsePro-        eGFR                 CNS  0.69  0.07   \n",
       "3           SparsePro-        eGFR          Connective  0.75  0.08   \n",
       "4           SparsePro-        eGFR                  GI  0.86  0.07   \n",
       "..                 ...         ...                 ...   ...   ...   \n",
       "145  SparsePro+PolyFun  Pulse rate       Hematopoietic  0.78  0.08   \n",
       "146  SparsePro+PolyFun  Pulse rate              Kidney  1.40  0.10   \n",
       "147  SparsePro+PolyFun  Pulse rate               Liver  1.19  0.09   \n",
       "148  SparsePro+PolyFun  Pulse rate               Other  1.05  0.08   \n",
       "149  SparsePro+PolyFun  Pulse rate     Musculoskeletal  1.38  0.08   \n",
       "\n",
       "                p  \n",
       "0    2.470000e-24  \n",
       "1    4.310000e-23  \n",
       "2    6.030000e-19  \n",
       "3    1.020000e-19  \n",
       "4    5.230000e-31  \n",
       "..            ...  \n",
       "145  1.920000e-22  \n",
       "146  4.770000e-32  \n",
       "147  1.630000e-31  \n",
       "148  3.620000e-39  \n",
       "149  3.060000e-55  \n",
       "\n",
       "[150 rows x 6 columns]"
      ]
     },
     "execution_count": 25,
     "metadata": {},
     "output_type": "execute_result"
    }
   ],
   "source": [
    "df_trait_cts"
   ]
  },
  {
   "cell_type": "raw",
   "id": "7edd32e3-e128-4958-aee0-54799fa99f6d",
   "metadata": {},
   "source": [
    "df_anno_list = []\n",
    "for tr in name_dict.keys():\n",
    "    for m in ['sparsepro']:\n",
    "        anno_wsep = pd.read_csv('../dat/GWAS/{}/{}/{}_baseline.wsep'.format(tr, m, tr), sep='\\t')\n",
    "        anno_wsep['Trait'] = name_dict[tr]\n",
    "        anno_wsep['Annotation'] = anno_wsep['index']\n",
    "        df_anno_list.append(anno_wsep[['Trait', 'Annotation', 'W', 'W_se', 'p']])\n",
    "pd.concat(df_anno_list).to_csv('../doc/dat_trait_anno.txt', sep='\\t', header=True, index=False)"
   ]
  },
  {
   "cell_type": "code",
   "execution_count": 33,
   "id": "4fd1a8c4-134a-4bd1-8bd0-8edf53bca788",
   "metadata": {},
   "outputs": [],
   "source": [
    "df_trait_anno = pd.read_csv('../doc/dat_trait_anno.txt', sep='\\t')"
   ]
  },
  {
   "cell_type": "code",
   "execution_count": 34,
   "id": "7e134d31-3366-4c60-8c8b-b1855f9c647c",
   "metadata": {},
   "outputs": [
    {
     "data": {
      "text/html": [
       "<div>\n",
       "<style scoped>\n",
       "    .dataframe tbody tr th:only-of-type {\n",
       "        vertical-align: middle;\n",
       "    }\n",
       "\n",
       "    .dataframe tbody tr th {\n",
       "        vertical-align: top;\n",
       "    }\n",
       "\n",
       "    .dataframe thead th {\n",
       "        text-align: right;\n",
       "    }\n",
       "</style>\n",
       "<table border=\"1\" class=\"dataframe\">\n",
       "  <thead>\n",
       "    <tr style=\"text-align: right;\">\n",
       "      <th></th>\n",
       "      <th>Trait</th>\n",
       "      <th>Annotation</th>\n",
       "      <th>W</th>\n",
       "      <th>W_se</th>\n",
       "      <th>p</th>\n",
       "    </tr>\n",
       "  </thead>\n",
       "  <tbody>\n",
       "    <tr>\n",
       "      <th>0</th>\n",
       "      <td>eGFR</td>\n",
       "      <td>Coding_UCSC</td>\n",
       "      <td>2.17</td>\n",
       "      <td>0.14</td>\n",
       "      <td>9.020000e-36</td>\n",
       "    </tr>\n",
       "    <tr>\n",
       "      <th>1</th>\n",
       "      <td>eGFR</td>\n",
       "      <td>Conserved_LindbladToh</td>\n",
       "      <td>1.90</td>\n",
       "      <td>0.13</td>\n",
       "      <td>9.200000e-33</td>\n",
       "    </tr>\n",
       "    <tr>\n",
       "      <th>2</th>\n",
       "      <td>eGFR</td>\n",
       "      <td>CTCF_Hoffman</td>\n",
       "      <td>0.35</td>\n",
       "      <td>0.26</td>\n",
       "      <td>2.620000e-01</td>\n",
       "    </tr>\n",
       "    <tr>\n",
       "      <th>3</th>\n",
       "      <td>eGFR</td>\n",
       "      <td>DGF_ENCODE</td>\n",
       "      <td>0.85</td>\n",
       "      <td>0.11</td>\n",
       "      <td>2.740000e-13</td>\n",
       "    </tr>\n",
       "    <tr>\n",
       "      <th>4</th>\n",
       "      <td>eGFR</td>\n",
       "      <td>DHS_Trynka</td>\n",
       "      <td>0.69</td>\n",
       "      <td>0.11</td>\n",
       "      <td>1.000000e-09</td>\n",
       "    </tr>\n",
       "    <tr>\n",
       "      <th>...</th>\n",
       "      <td>...</td>\n",
       "      <td>...</td>\n",
       "      <td>...</td>\n",
       "      <td>...</td>\n",
       "      <td>...</td>\n",
       "    </tr>\n",
       "    <tr>\n",
       "      <th>120</th>\n",
       "      <td>Pulse rate</td>\n",
       "      <td>WeakEnhancer_Hoffman</td>\n",
       "      <td>0.56</td>\n",
       "      <td>0.20</td>\n",
       "      <td>1.490000e-02</td>\n",
       "    </tr>\n",
       "    <tr>\n",
       "      <th>121</th>\n",
       "      <td>Pulse rate</td>\n",
       "      <td>synonymous</td>\n",
       "      <td>0.87</td>\n",
       "      <td>0.41</td>\n",
       "      <td>1.090000e-01</td>\n",
       "    </tr>\n",
       "    <tr>\n",
       "      <th>122</th>\n",
       "      <td>Pulse rate</td>\n",
       "      <td>non_synonymous</td>\n",
       "      <td>1.94</td>\n",
       "      <td>0.22</td>\n",
       "      <td>5.210000e-11</td>\n",
       "    </tr>\n",
       "    <tr>\n",
       "      <th>123</th>\n",
       "      <td>Pulse rate</td>\n",
       "      <td>Human_Promoter_Villar</td>\n",
       "      <td>1.02</td>\n",
       "      <td>0.18</td>\n",
       "      <td>1.650000e-06</td>\n",
       "    </tr>\n",
       "    <tr>\n",
       "      <th>124</th>\n",
       "      <td>Pulse rate</td>\n",
       "      <td>Human_Enhancer_Villar</td>\n",
       "      <td>0.56</td>\n",
       "      <td>0.16</td>\n",
       "      <td>2.140000e-03</td>\n",
       "    </tr>\n",
       "  </tbody>\n",
       "</table>\n",
       "<p>125 rows × 5 columns</p>\n",
       "</div>"
      ],
      "text/plain": [
       "          Trait             Annotation     W  W_se             p\n",
       "0          eGFR            Coding_UCSC  2.17  0.14  9.020000e-36\n",
       "1          eGFR  Conserved_LindbladToh  1.90  0.13  9.200000e-33\n",
       "2          eGFR           CTCF_Hoffman  0.35  0.26  2.620000e-01\n",
       "3          eGFR             DGF_ENCODE  0.85  0.11  2.740000e-13\n",
       "4          eGFR             DHS_Trynka  0.69  0.11  1.000000e-09\n",
       "..          ...                    ...   ...   ...           ...\n",
       "120  Pulse rate   WeakEnhancer_Hoffman  0.56  0.20  1.490000e-02\n",
       "121  Pulse rate             synonymous  0.87  0.41  1.090000e-01\n",
       "122  Pulse rate         non_synonymous  1.94  0.22  5.210000e-11\n",
       "123  Pulse rate  Human_Promoter_Villar  1.02  0.18  1.650000e-06\n",
       "124  Pulse rate  Human_Enhancer_Villar  0.56  0.16  2.140000e-03\n",
       "\n",
       "[125 rows x 5 columns]"
      ]
     },
     "execution_count": 34,
     "metadata": {},
     "output_type": "execute_result"
    }
   ],
   "source": [
    "df_trait_anno"
   ]
  }
 ],
 "metadata": {
  "kernelspec": {
   "display_name": "Python 3 (ipykernel)",
   "language": "python",
   "name": "python3"
  },
  "language_info": {
   "codemirror_mode": {
    "name": "ipython",
    "version": 3
   },
   "file_extension": ".py",
   "mimetype": "text/x-python",
   "name": "python",
   "nbconvert_exporter": "python",
   "pygments_lexer": "ipython3",
   "version": "3.8.10"
  }
 },
 "nbformat": 4,
 "nbformat_minor": 5
}
